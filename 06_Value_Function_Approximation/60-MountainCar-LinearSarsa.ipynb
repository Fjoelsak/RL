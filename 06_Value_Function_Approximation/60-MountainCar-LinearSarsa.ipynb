{
 "cells": [
  {
   "metadata": {},
   "cell_type": "markdown",
   "source": [
    "# Lecture: Linear function approximation for the Mountain Car environment\n",
    "\n",
    "## Introduction to the Mountain Car Environment\n",
    "\n",
    "The Mountain Car environment is a classic benchmark problem in reinforcement learning, provided by Gymnasium. It simulates a car stuck in a valley between two hills, where the goal is to drive up the right hill and reach the flag at the top.\n",
    "\n",
    "However, the car's engine is not powerful enough to drive directly up the hill. Instead, the agent must learn to build momentum by first driving back and forth between the hills to reach the goal.\n",
    "\n",
    "<img src=\"images/mountain_car.gif\" alt=\"Mountain Car\" width=\"400\"/>\n",
    "\n",
    "### Environment Details\n",
    "\n",
    "- **State space**: A 2D continuous space:\n",
    "  - `position` ∈ [-1.2, 0.6]\n",
    "  - `velocity` ∈ [-0.07, 0.07]\n",
    "\n",
    "- **Action space**: Discrete with 3 actions:\n",
    "  - `0`: Push left\n",
    "  - `1`: Do nothing\n",
    "  - `2`: Push right\n",
    "\n",
    "- **Reward**: -1 at each time step until the goal is reached.\n",
    "\n",
    "- **Objective**: Reach the goal (position ≥ 0.5) in as few steps as possible."
   ],
   "id": "da56bd048efd9d16"
  },
  {
   "metadata": {},
   "cell_type": "markdown",
   "source": "Run the following cell only if you are working with google colab to copy the required .py file in the root directory. If you are working locally just ignore this cell!",
   "id": "f208fe7d1bebdfac"
  },
  {
   "metadata": {},
   "cell_type": "code",
   "source": [
    "!git clone https://github.com/Fjoelsak/RL.git\n",
    "!cp RL/06_Value_Function_Approximation/LinearSarsaAgent.py RL/06_Value_Function_Approximation/TileCoding.py ./\n",
    "!mkdir images\n",
    "!cp RL/06_Value_Function_Approximation/images/mountain_car.gif ./images"
   ],
   "id": "35a48d4a4036b34a",
   "outputs": [],
   "execution_count": null
  },
  {
   "metadata": {},
   "cell_type": "markdown",
   "source": [
    "## Linear function approximation with SARSA\n",
    "\n",
    "Understand the code in 'LinearSarsaAgent.py' and 'TileCoding.py' and try to figure out the impact of the tilings and bins as well as alpha on the training performance. Vary the number of episodes to train and use the 'plot_learning_curve()' method for an insight in the training process"
   ],
   "id": "5929af0d820d1202"
  },
  {
   "cell_type": "code",
   "id": "initial_id",
   "metadata": {
    "collapsed": true
   },
   "source": [
    "import gymnasium as gym\n",
    "import numpy as np\n",
    "from LinearSarsaAgent import LinearSarsaAgent\n",
    "\n",
    "# Training Loop\n",
    "env = gym.make('MountainCar-v0')\n",
    "agent = LinearSarsaAgent(env, tilings=10, bins=(8, 8), alpha=1/10)\n",
    "\n",
    "returns = agent.train(1500)\n",
    "env.close()"
   ],
   "outputs": [],
   "execution_count": null
  },
  {
   "metadata": {},
   "cell_type": "code",
   "source": "agent.plot_learning_curve(returns)",
   "id": "71b94a28e8b495f1",
   "outputs": [],
   "execution_count": null
  },
  {
   "metadata": {},
   "cell_type": "code",
   "source": [
    "env = gym.make('MountainCar-v0', render_mode='human')\n",
    "agent.run_episode(env, render = True)\n",
    "env.close()"
   ],
   "id": "d7cfb6c8c62cf61b",
   "outputs": [],
   "execution_count": null
  }
 ],
 "metadata": {
  "kernelspec": {
   "display_name": "Python 3",
   "language": "python",
   "name": "python3"
  },
  "language_info": {
   "codemirror_mode": {
    "name": "ipython",
    "version": 2
   },
   "file_extension": ".py",
   "mimetype": "text/x-python",
   "name": "python",
   "nbconvert_exporter": "python",
   "pygments_lexer": "ipython2",
   "version": "2.7.6"
  }
 },
 "nbformat": 4,
 "nbformat_minor": 5
}
