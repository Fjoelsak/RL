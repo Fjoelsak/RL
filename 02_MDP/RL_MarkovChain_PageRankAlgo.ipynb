{
 "cells": [
  {
   "metadata": {},
   "cell_type": "markdown",
   "source": "# Lecture: Implementation of markov chains",
   "id": "3ff83ae7c6c1d227"
  },
  {
   "metadata": {},
   "cell_type": "markdown",
   "source": "Suppose we have the markov chain as depicted in the lecture slides. An implementation and sampling of episodes could look like in `markov_chain.py`.",
   "id": "b4d140b40709010a"
  },
  {
   "metadata": {},
   "cell_type": "markdown",
   "source": "Run the following cell only if you are working with google colab to copy the required .py file in the root directory. If you are working locally just ignore this cell!",
   "id": "3b747bc910530257"
  },
  {
   "metadata": {},
   "cell_type": "code",
   "outputs": [],
   "execution_count": null,
   "source": [
    "!git clone https://github.com/Fjoelsak/RL.git\n",
    "!cp RL/02_MDP/markov_chain.py ./"
   ],
   "id": "80a047716a4a863f"
  },
  {
   "metadata": {
    "ExecuteTime": {
     "end_time": "2025-02-15T13:50:48.415817Z",
     "start_time": "2025-02-15T13:50:47.186022Z"
    }
   },
   "cell_type": "code",
   "source": [
    "import markov_chain\n",
    "\n",
    "states = ['FB', 'C1', 'C2', 'C3', 'Pass', 'Pub', 'Sleep']\n",
    "transProbs = {0: {0: 0.9, 1: 0.1},\n",
    "            1: {0: 0.5, 2: 0.5},\n",
    "            2: {3: 0.8, 6: 0.2},\n",
    "            3: {4: 0.6, 5: 0.4},\n",
    "            4: {6: 1.0},\n",
    "            5: {1: 0.2, 2: 0.4, 3: 0.4},\n",
    "            6: {6: 1.0}\n",
    "}\n",
    "markovChain = markov_chain.MarkovChain(states, [6], transProbs)\n",
    "print(\"Transposition probability matrix:\\n\", markovChain.trans_prob_matrix)\n",
    "\n",
    "for i in range(10):\n",
    "    eps = markovChain.sample(1)\n",
    "    if len(eps) < 10:\n",
    "        print(\"Possible episode: \", eps)"
   ],
   "id": "2dbbcbe4ed5ecb85",
   "outputs": [
    {
     "name": "stdout",
     "output_type": "stream",
     "text": [
      "Transposition probability matrix:\n",
      " [[0.9 0.1 0.  0.  0.  0.  0. ]\n",
      " [0.5 0.  0.5 0.  0.  0.  0. ]\n",
      " [0.  0.  0.  0.8 0.  0.  0.2]\n",
      " [0.  0.  0.  0.  0.6 0.4 0. ]\n",
      " [0.  0.  0.  0.  0.  0.  1. ]\n",
      " [0.  0.2 0.4 0.4 0.  0.  0. ]\n",
      " [0.  0.  0.  0.  0.  0.  1. ]]\n",
      "Possible episode:  ['C1', 'C2', 'C3', 'Pub', 'C3', 'Pub', 'C3', 'Pass', 'Sleep']\n",
      "Possible episode:  ['C1', 'C2', 'C3', 'Pub', 'C3', 'Pass', 'Sleep']\n",
      "Possible episode:  ['C1', 'C2', 'Sleep']\n",
      "Possible episode:  ['C1', 'C2', 'C3', 'Pass', 'Sleep']\n"
     ]
    }
   ],
   "execution_count": 1
  },
  {
   "metadata": {},
   "cell_type": "markdown",
   "source": "# Excercise: Page rank algorithm from Google",
   "id": "8aa2a2479cfabea6"
  },
  {
   "metadata": {},
   "cell_type": "markdown",
   "source": [
    "Suppose you are a Google engineer and want to implement the page rank algorithm to rank different pages according to historical data you have regarding the probabilities that users click on a certain link of a website.\n",
    "\n",
    "In the context of a web network, *individual web pages* can be thought of as *states* in a Markov Chain, represented by labels A, B, and C. The transition from one state to another is determined by a probability, represented by P(i, j). For example, in this model, a user can move from state C to state A with a transition probability of P(C, A) = 1, and the same applies for other states.\n",
    "\n",
    "In the context of a web network, the *transition probability* between states is determined by the *number of outgoing links* from a particular web page. For example, if a web page has 2 outgoing links (like page B), the probability of transitioning from that page is 1/2. These probabilities can be adjusted using a formula that takes into account the likelihood of a user choosing an outgoing link from their current state.\n",
    "\n",
    "**Remark**: The method described here was invented by Larry Page and Sergey Brin 1996 while they were Ph.D. students at Stanford University. They used it for their search engine called Google of the company with same name the after their time at university.\n",
    "\n",
    "## Task 1\n",
    "Implement the paging method in `markov_chain.py` to obtain the likelihood of arriving at a certain website.\n",
    "\n",
    "**Remark**: If you are working with google colab don't forget to include `markov_chain.py` in your directory!"
   ],
   "id": "65ced6c29e9bfe1a"
  },
  {
   "metadata": {},
   "cell_type": "markdown",
   "source": [
    "## Task 2\n",
    "Test your implementation with the following data.\n",
    "\n",
    "1. At first draw a process diagram of the markov chain\n",
    "2. Test the implementation starting from Netflix\n",
    "\n",
    "In which order would you rank the following websites?"
   ],
   "id": "4e104dacfe2423bd"
  },
  {
   "cell_type": "code",
   "id": "initial_id",
   "metadata": {
    "collapsed": true,
    "ExecuteTime": {
     "end_time": "2025-02-15T14:19:04.568108Z",
     "start_time": "2025-02-15T14:19:04.556106Z"
    }
   },
   "source": [
    "import markov_chain\n",
    "\n",
    "states = ['Netflix', 'Youtube', 'Facebook', 'Amazon', 'Reddit', 'Instagram']\n",
    "termStates = [1]\n",
    "transp = {0: {0: 0.2, 1: 0.2, 2: 0.6},\n",
    "          1: {1: 1.0},\n",
    "          2: {2: 0.4, 3: 0.6},\n",
    "          3: {4: 0.6, 5: 0.4},\n",
    "          4: {5: 1.0},\n",
    "          5: {1: 0.2, 2: 0.4, 3: 0.4}}\n",
    "mc = markov_chain.MarkovChain(states, termStates, transp)\n",
    "mc.sample(0)"
   ],
   "outputs": [
    {
     "data": {
      "text/plain": [
       "['Netflix',\n",
       " 'Facebook',\n",
       " 'Amazon',\n",
       " 'Reddit',\n",
       " 'Instagram',\n",
       " 'Amazon',\n",
       " 'Reddit',\n",
       " 'Instagram',\n",
       " 'Facebook',\n",
       " 'Amazon',\n",
       " 'Instagram',\n",
       " 'Amazon',\n",
       " 'Reddit',\n",
       " 'Instagram',\n",
       " 'Amazon',\n",
       " 'Instagram',\n",
       " 'Youtube']"
      ]
     },
     "execution_count": 26,
     "metadata": {},
     "output_type": "execute_result"
    }
   ],
   "execution_count": 26
  }
 ],
 "metadata": {
  "kernelspec": {
   "display_name": "Python 3",
   "language": "python",
   "name": "python3"
  },
  "language_info": {
   "codemirror_mode": {
    "name": "ipython",
    "version": 2
   },
   "file_extension": ".py",
   "mimetype": "text/x-python",
   "name": "python",
   "nbconvert_exporter": "python",
   "pygments_lexer": "ipython2",
   "version": "2.7.6"
  }
 },
 "nbformat": 4,
 "nbformat_minor": 5
}
