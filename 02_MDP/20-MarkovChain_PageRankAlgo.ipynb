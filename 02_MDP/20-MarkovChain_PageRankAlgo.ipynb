{
 "cells": [
  {
   "metadata": {},
   "cell_type": "markdown",
   "source": "# Lecture: Implementation of markov chains",
   "id": "3ff83ae7c6c1d227"
  },
  {
   "metadata": {},
   "cell_type": "markdown",
   "source": "Suppose we have the markov chain as depicted in the lecture slides. An implementation and sampling of episodes could look like in `markov_chain.py`.",
   "id": "b4d140b40709010a"
  },
  {
   "metadata": {},
   "cell_type": "markdown",
   "source": "Run the following cell only if you are working with google colab to copy the required .py file in the root directory. If you are working locally just ignore this cell!",
   "id": "3b747bc910530257"
  },
  {
   "metadata": {},
   "cell_type": "code",
   "outputs": [],
   "execution_count": null,
   "source": [
    "!git clone https://github.com/Fjoelsak/RL.git\n",
    "!cp RL/02_MDP/markov_chain.py ./"
   ],
   "id": "80a047716a4a863f"
  },
  {
   "metadata": {},
   "cell_type": "code",
   "source": [
    "import markov_chain\n",
    "\n",
    "states = ['FB', 'C1', 'C2', 'C3', 'Pass', 'Pub', 'Sleep']\n",
    "transProbs = {0: {0: 0.9, 1: 0.1},\n",
    "            1: {0: 0.5, 2: 0.5},\n",
    "            2: {3: 0.8, 6: 0.2},\n",
    "            3: {4: 0.6, 5: 0.4},\n",
    "            4: {6: 1.0},\n",
    "            5: {1: 0.2, 2: 0.4, 3: 0.4},\n",
    "            6: {6: 1.0}\n",
    "}\n",
    "markovChain = markov_chain.MarkovChain(states, transProbs, [6])\n",
    "print(\"Transposition probability matrix:\\n\", markovChain.trans_prob_matrix)\n",
    "\n",
    "for i in range(10):\n",
    "    eps = markovChain.sample(1)\n",
    "    if len(eps) < 10:\n",
    "        print(\"Possible episode: \", eps)"
   ],
   "id": "2dbbcbe4ed5ecb85",
   "outputs": [],
   "execution_count": null
  },
  {
   "metadata": {},
   "cell_type": "markdown",
   "source": "# Excercise: Page rank algorithm from Google",
   "id": "8aa2a2479cfabea6"
  },
  {
   "metadata": {},
   "cell_type": "markdown",
   "source": [
    "Suppose you are a Google engineer and want to implement the page rank algorithm to rank different pages according to historical data you have regarding the probabilities that users click on a certain link of a website.\n",
    "\n",
    "In the context of a web network, *individual web pages* can be thought of as *states* in a Markov Chain, represented by labels A, B, and C. The transition from one state to another is determined by a probability, represented by P(i, j). For example, in this model, a user can move from state C to state A with a transition probability of P(C, A) = 1, and the same applies for other states.\n",
    "\n",
    "In the context of a web network, the *transition probability* between states is determined by the *number of outgoing links* from a particular web page. For example, if a web page has 2 outgoing links (like page B), the probability of transitioning from that page is 1/2. These probabilities can be adjusted using a formula that takes into account the likelihood of a user choosing an outgoing link from their current state.\n",
    "\n",
    "**Remark**: The method described here was invented by Larry Page and Sergey Brin 1996 while they were Ph.D. students at Stanford University. They used it for their search engine called Google of the company with same name the after their time at university.\n",
    "\n",
    "## Task 1\n",
    "Implement the paging method in `markov_chain.py` to obtain the likelihood of arriving at a certain website.\n",
    "\n",
    "**Remark**: If you are working with google colab check that `markov_chain.py` is in your root directory!"
   ],
   "id": "65ced6c29e9bfe1a"
  },
  {
   "metadata": {},
   "cell_type": "markdown",
   "source": [
    "## Task 2\n",
    "Test your implementation with the following data.\n",
    "\n",
    "1. At first draw a process diagram of the markov chain\n",
    "2. Test the implementation starting from Netflix\n",
    "\n",
    "In which order would you rank the following websites?"
   ],
   "id": "4e104dacfe2423bd"
  },
  {
   "cell_type": "code",
   "id": "initial_id",
   "metadata": {
    "collapsed": true
   },
   "source": [
    "import markov_chain\n",
    "import numpy as np\n",
    "\n",
    "states = ['Netflix', 'Youtube', 'Facebook', 'Amazon', 'Reddit', 'Instagram']\n",
    "termStates = [1]\n",
    "transp = {0: {0: 0.2, 1: 0.2, 2: 0.6},\n",
    "          1: {1: 1.0},\n",
    "          2: {2: 0.4, 3: 0.6},\n",
    "          3: {4: 0.6, 5: 0.4},\n",
    "          4: {5: 1.0},\n",
    "          5: {1: 0.2, 2: 0.4, 3: 0.4}}\n",
    "mc = markov_chain.MarkovChain(states, transp, termStates)\n",
    "print(mc.sample(0))\n",
    "print(np.round(mc.paging(np.array([1, 0, 0, 0, 0, 0]), 5),2))"
   ],
   "outputs": [],
   "execution_count": null
  }
 ],
 "metadata": {
  "kernelspec": {
   "display_name": "Python 3",
   "language": "python",
   "name": "python3"
  },
  "language_info": {
   "codemirror_mode": {
    "name": "ipython",
    "version": 2
   },
   "file_extension": ".py",
   "mimetype": "text/x-python",
   "name": "python",
   "nbconvert_exporter": "python",
   "pygments_lexer": "ipython2",
   "version": "2.7.6"
  }
 },
 "nbformat": 4,
 "nbformat_minor": 5
}
