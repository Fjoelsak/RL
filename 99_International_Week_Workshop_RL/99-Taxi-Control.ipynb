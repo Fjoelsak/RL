{
 "cells": [
  {
   "metadata": {},
   "cell_type": "markdown",
   "source": [
    "# Workshop on Reinforcement Learning or How to drive a taxi in a data-driven way?\n",
    "\n",
    "Welcome to the workshop on Reinforcement Learning. We want to introduce the concept of Reinforcement Learning in a problem-based way with an interactive small example, the so called **Taxi environment**.\n",
    "\n",
    "There are four designated pick-up and drop-off locations (Red, Green, Yellow and Blue) in the 5x5 grid world. The taxi starts off at a random square and the passenger at one of the designated locations.\n",
    "\n",
    "The goal is move the taxi to the passenger’s location, pick up the passenger, move to the passenger’s desired destination, and drop off the passenger. Once the passenger is dropped off, the episode ends.\n",
    "\n",
    "The player receives positive rewards for successfully dropping-off the passenger at the correct location. Negative rewards for incorrect attempts to pick-up/drop-off passenger and for each step where another reward is not received.\n",
    "\n",
    "<img src=\"mat/taxi.gif\" alt=\"Taxi driver randomly driving around\" width=\"400\"/>\n",
    "\n",
    "More information can be found in the [official documentation](https://gymnasium.farama.org/environments/toy_text/taxi/)"
   ],
   "id": "1398e6433bbc037d"
  },
  {
   "metadata": {},
   "cell_type": "markdown",
   "source": "## Excercise 1: Visualizing your agent in the environment",
   "id": "b1251e9146130cd7"
  },
  {
   "metadata": {},
   "cell_type": "markdown",
   "source": [
    "For using the taxi environment you need the `gymnasium` package.\n",
    "\n",
    "If you use python locally, you can use the `pygame` package to visualize the game. If you use colab instead, you can create a video from your agent acting in the environment.\n",
    "At first, we want to try out the environment by instantiating it and setup the typical RL data stream we introduced in the slides:\n",
    "\n",
    "<img src=\"mat/01-RL-datastream.png\" alt=\"RL datastream\" width=\"400\"/>\n",
    "\n",
    "Therefore, we implement a `while` loop, sample an **action** from the possible actions in the action space and **do** one step with action in the environment. As an agent, we get the next state (called **observation**, short obs), a **reward** and some additional information whether the episode has ended."
   ],
   "id": "ad5656668a0e7803"
  },
  {
   "metadata": {
    "ExecuteTime": {
     "end_time": "2025-05-28T10:02:02.469111Z",
     "start_time": "2025-05-28T10:01:21.665932Z"
    }
   },
   "cell_type": "code",
   "source": [
    "import gymnasium as gym\n",
    "import pygame\n",
    "\n",
    "# instantiation of the environment\n",
    "env = gym.make('Taxi-v3', render_mode='human')\n",
    "# reseting the environment for first start\n",
    "obs, _ = env.reset()\n",
    "\n",
    "done = False\n",
    "while not done:\n",
    "    # sample an action\n",
    "    action = env.action_space.sample()\n",
    "    # do one step in the environment\n",
    "    obs, reward, terminated, truncated, _ = env.step(action)\n",
    "\n",
    "    # flag whether the episode is finished\n",
    "    done = terminated or truncated\n",
    "    # render the game\n",
    "    env.render()\n",
    "\n",
    "    # this is just event handling that you can end the visualization by clicking q button\n",
    "    for event in pygame.event.get():\n",
    "        if event.type == pygame.KEYDOWN:\n",
    "            if event.key == pygame.K_q:\n",
    "                pygame.quit()\n",
    "                done = True\n",
    "\n",
    "env.close()"
   ],
   "id": "d97ba13ff887398c",
   "outputs": [],
   "execution_count": 7
  },
  {
   "metadata": {
    "ExecuteTime": {
     "end_time": "2025-05-28T12:21:39.042001Z",
     "start_time": "2025-05-28T12:21:37.213974Z"
    }
   },
   "cell_type": "code",
   "source": [
    "from IPython.display import HTML\n",
    "from base64 import b64encode\n",
    "\n",
    "import imageio\n",
    "\n",
    "env = gym.make(\"Taxi-v3\", render_mode=\"rgb_array\")\n",
    "\n",
    "frames = []\n",
    "obs, _ = env.reset()\n",
    "done = False\n",
    "i=1\n",
    "\n",
    "while not done:\n",
    "    frame = env.render()  # Capture the frame\n",
    "    frames.append(frame)\n",
    "\n",
    "    action = env.action_space.sample()\n",
    "    obs, reward, terminated, truncated, info = env.step(action)\n",
    "    done = terminated or truncated\n",
    "    if done:\n",
    "      frame = env.render()\n",
    "      frames.append(frame)\n",
    "\n",
    "env.close()\n",
    "\n",
    "video_path = \"./taxi_vid.mp4\"\n",
    "imageio.mimsave(video_path, frames, fps=5)"
   ],
   "id": "55a102b46d7f139d",
   "outputs": [],
   "execution_count": 13
  },
  {
   "metadata": {
    "ExecuteTime": {
     "end_time": "2025-05-28T12:21:49.064281Z",
     "start_time": "2025-05-28T12:21:47.104902Z"
    }
   },
   "cell_type": "code",
   "source": [
    "mp4 = open(video_path, 'rb').read()\n",
    "data_url = \"data:video/mp4;base64,\" + b64encode(mp4).decode()\n",
    "\n",
    "HTML(f\"\"\"\n",
    "<video width=400 controls>\n",
    "    <source src=\"{data_url}\" type=\"video/mp4\">\n",
    "</video>\n",
    "\"\"\")"
   ],
   "id": "61887b6d1f53483",
   "outputs": [
    {
     "name": "stderr",
     "output_type": "stream",
     "text": [
      "IMAGEIO FFMPEG_WRITER WARNING: input image is not divisible by macro_block_size=16, resizing from (550, 350) to (560, 352) to ensure video compatibility with most codecs and players. To prevent resizing, make your input image divisible by the macro_block_size or set the macro_block_size to 1 (risking incompatibility).\n"
     ]
    }
   ],
   "execution_count": 14
  },
  {
   "metadata": {},
   "cell_type": "markdown",
   "source": [
    "## Excercise 2\n",
    "\n",
    "Find out the dimensions of state and action space and check it with the ideas we introduced theortically before."
   ],
   "id": "422ca5d9fc23243e"
  },
  {
   "metadata": {
    "ExecuteTime": {
     "end_time": "2025-05-28T10:00:35.456284Z",
     "start_time": "2025-05-28T10:00:35.450366Z"
    }
   },
   "cell_type": "code",
   "source": "env.observation_space",
   "id": "e755f084530da8b7",
   "outputs": [
    {
     "data": {
      "text/plain": [
       "Discrete(500)"
      ]
     },
     "execution_count": 6,
     "metadata": {},
     "output_type": "execute_result"
    }
   ],
   "execution_count": 6
  },
  {
   "metadata": {
    "ExecuteTime": {
     "end_time": "2025-05-28T10:00:16.129072Z",
     "start_time": "2025-05-28T10:00:16.121248Z"
    }
   },
   "cell_type": "code",
   "source": "env.action_space",
   "id": "d744f5a551d2f8ce",
   "outputs": [
    {
     "data": {
      "text/plain": [
       "Discrete(6)"
      ]
     },
     "execution_count": 4,
     "metadata": {},
     "output_type": "execute_result"
    }
   ],
   "execution_count": 4
  },
  {
   "metadata": {},
   "cell_type": "markdown",
   "source": [
    "## Excercise 3\n",
    "\n",
    "How would you build up and implement a strategy for the taxi driver to properly solve the taxi problem? Try out some thoughts and hardcode the optimal policy for a given problem instance.\n",
    "\n",
    "- check how the initial problem with seed 328 looks like\n",
    "- think about the exact order of actions you have to do\n",
    "- hardcode them in a list and try it out!\n",
    "\n",
    "Remark: The actions are encoded in the following way according to the documentation:\n",
    "\n",
    "- 0: Move south (down)\n",
    "- 1: Move north (up)\n",
    "- 2: Move east (right)\n",
    "- 3: Move west (left)\n",
    "- 4: Pickup passenger\n",
    "-5: Drop off passenger"
   ],
   "id": "9c25897808f4b2e2"
  },
  {
   "metadata": {
    "ExecuteTime": {
     "end_time": "2025-05-28T10:09:20.542608Z",
     "start_time": "2025-05-28T10:09:13.857988Z"
    }
   },
   "cell_type": "code",
   "source": [
    "import gymnasium as gym\n",
    "import pygame\n",
    "\n",
    "# instantiation of the environment\n",
    "env = gym.make('Taxi-v3', render_mode='human')\n",
    "# reseting the environment for first start\n",
    "obs, _ = env.reset()\n",
    "\n",
    "# consider a specific problem instance\n",
    "env.unwrapped.s = 328\n",
    "\n",
    "done = False\n",
    "while not done:\n",
    "    # sample an action\n",
    "    action = env.action_space.sample()\n",
    "    # do one step in the environment\n",
    "    obs, reward, terminated, truncated, _ = env.step(action)\n",
    "\n",
    "    # flag whether the episode is finished\n",
    "    done = terminated or truncated\n",
    "    # render the game\n",
    "    env.render()\n",
    "\n",
    "    # this is just event handling that you can end the visualization by clicking q button\n",
    "    for event in pygame.event.get():\n",
    "        if event.type == pygame.KEYDOWN:\n",
    "            if event.key == pygame.K_q:\n",
    "                pygame.quit()\n",
    "                done = True\n",
    "\n",
    "env.close()"
   ],
   "id": "5de293bd2cad68ee",
   "outputs": [],
   "execution_count": 12
  }
 ],
 "metadata": {
  "kernelspec": {
   "display_name": "Python 3",
   "language": "python",
   "name": "python3"
  },
  "language_info": {
   "codemirror_mode": {
    "name": "ipython",
    "version": 2
   },
   "file_extension": ".py",
   "mimetype": "text/x-python",
   "name": "python",
   "nbconvert_exporter": "python",
   "pygments_lexer": "ipython2",
   "version": "2.7.6"
  }
 },
 "nbformat": 4,
 "nbformat_minor": 5
}
