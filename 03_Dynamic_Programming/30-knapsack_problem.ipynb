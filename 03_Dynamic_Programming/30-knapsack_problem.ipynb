{
 "cells": [
  {
   "metadata": {},
   "cell_type": "markdown",
   "source": "# 0-1 knapsack problem",
   "id": "79e4327d20ecedc2"
  },
  {
   "metadata": {},
   "cell_type": "markdown",
   "source": [
    "As an example for dynamic programming applications we consider the 0-1 knapsack problem. The problem is as follows:\n",
    "\n",
    "Given a set of $n$ items, each with a weight $w_i$ and a value $v_i$, determine which items to include in the collection so that the total weight $W$ is less than or equal to a given limit and the total value is as large as possible.\n",
    "\n",
    "The problem often arises at ressource allocation problems and has its name from someone who is constrained by fixed-size knapsack and must fill it with the most valuable items.\n",
    "Considering brute-force combinations we get $2^n$ solutions to find the optimal one."
   ],
   "id": "e884881ccdac19c7"
  },
  {
   "metadata": {},
   "cell_type": "code",
   "source": [
    "!git clone https://github.com/Fjoelsak/RL.git\n",
    "!cp RL/03_Dynamic_Programming/algo_knapsack_problem.py ./"
   ],
   "id": "66ed0c753abf705d",
   "outputs": [],
   "execution_count": null
  },
  {
   "cell_type": "code",
   "id": "initial_id",
   "metadata": {
    "collapsed": true
   },
   "source": [
    "import algo_knapsack_problem as knapsack\n",
    "\n",
    "# setup of the course example\n",
    "weights, values = [12, 2, 1, 4, 1], [4, 2, 1, 10, 2]\n",
    "capacity = 15\n",
    "\n",
    "knapsack = knapsack.KnapsackProblem(weights, values, capacity)"
   ],
   "outputs": [],
   "execution_count": null
  },
  {
   "metadata": {},
   "cell_type": "markdown",
   "source": [
    "## Task 1\n",
    "Implement a dynamic programming solution for the 0-1 knapsack problem in `algo_knapsack_problem.py` and identify the two required characteristics of problems to apply dynamic programming with.\n",
    "In addition, use the test set above and print out the corresponding table your algo has determined to test your implementation. Compare the results with the results from the lecture's slides."
   ],
   "id": "f76bdbcc8f6c95b6"
  },
  {
   "metadata": {},
   "cell_type": "code",
   "source": "print(knapsack.solve())",
   "id": "2684e829a5be7c57",
   "outputs": [],
   "execution_count": null
  },
  {
   "metadata": {},
   "cell_type": "markdown",
   "source": [
    "### Task 2\n",
    "Implement the `find_selected_items()` method to determine which items to pack into the knapsack to get the optimal solution."
   ],
   "id": "6999910c95948e18"
  },
  {
   "metadata": {},
   "cell_type": "code",
   "source": "knapsack.find_selected_items()",
   "id": "6b426744a87c7d20",
   "outputs": [],
   "execution_count": null
  }
 ],
 "metadata": {
  "kernelspec": {
   "display_name": "Python 3",
   "language": "python",
   "name": "python3"
  },
  "language_info": {
   "codemirror_mode": {
    "name": "ipython",
    "version": 2
   },
   "file_extension": ".py",
   "mimetype": "text/x-python",
   "name": "python",
   "nbconvert_exporter": "python",
   "pygments_lexer": "ipython2",
   "version": "2.7.6"
  }
 },
 "nbformat": 4,
 "nbformat_minor": 5
}
