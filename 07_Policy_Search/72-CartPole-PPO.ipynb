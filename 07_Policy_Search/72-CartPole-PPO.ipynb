{
 "cells": [
  {
   "metadata": {},
   "cell_type": "markdown",
   "source": [
    "# Lecture: Understanding KL divergence\n",
    "\n",
    "**Objective**: Compare how two different new policies diverge from a reference policy using KL Divergence. Understand how differences in action probabilities affect the divergence value.\n",
    "\n",
    "We know from the lecture that in policy gradient methods the KL divergence is used to measure the change in behaviour when updating from an old policy to a new one. A small divergence means minor changes; a large divergence implies the agent's behaviour may have shifted drastically."
   ],
   "id": "4ac2fdd71408999"
  },
  {
   "metadata": {},
   "cell_type": "markdown",
   "source": [
    "### Excercise 1: Implementing KL divergence with minor stability tricks\n",
    "\n",
    "Below you see the code for creating a probability distribution of raw unscaled outcomes of a possible policy in RL (the `softmax()` method)\n",
    "\n",
    "$$ \\text{softmax}(x_i) = \\frac{e^{x_i}}{\\sum_j e^{x_j}} $$\n",
    "\n",
    "and the code for computing the `kl_divergence()`:\n",
    "\n",
    "$$ D_{KL}(P||Q) = \\sum_x P(x) \\log \\frac{P(x)}{Q(x)} $$\n",
    "\n",
    "However, there are some numerical tricks in it so that we have more numerical stability. Find them and comment in the code the corresponding ideas of the extensions! In particular, go to the documentation of the `np.clip()` method and read what exactly the function is doing."
   ],
   "id": "ecacb59cda29b915"
  },
  {
   "metadata": {
    "ExecuteTime": {
     "end_time": "2025-07-20T09:43:14.960920Z",
     "start_time": "2025-07-20T09:43:10.919204Z"
    }
   },
   "cell_type": "code",
   "source": [
    "import numpy as np\n",
    "import matplotlib.pyplot as plt\n",
    "\n",
    "def softmax(logits):\n",
    "    logits = np.array(logits)\n",
    "    e_x = np.exp(logits - np.max(logits))\n",
    "    return e_x / e_x.sum()\n",
    "\n",
    "def kl_divergence(p, q, epsilon=1e-10):\n",
    "    p = np.clip(p, epsilon, 1)\n",
    "    q = np.clip(q, epsilon, 1)\n",
    "    return np.sum(p * np.log(p / q))"
   ],
   "id": "bd67220963c930ba",
   "outputs": [],
   "execution_count": 1
  },
  {
   "metadata": {},
   "cell_type": "markdown",
   "source": [
    "### Excercise 2: Try it out!\n",
    "\n",
    "You now have three different policies, a reference policy and two new policies a and b. We want to measure the difference between these two with respect to the reference distribution.\n",
    "\n",
    "#### Task 1:\n",
    "Try it out with the given numbers as well as other numbers in each of the policies. Try to get a feeling on how changing probabilites impact the kl divergence. Use the third cell with the plot function to visualize the changes in the policies.\n",
    "\n",
    "#### Task 2:\n",
    "The output is given in nats. What is this and is this reasonable?"
   ],
   "id": "e7caa20c49cb54df"
  },
  {
   "metadata": {
    "ExecuteTime": {
     "end_time": "2025-07-20T09:43:14.983296Z",
     "start_time": "2025-07-20T09:43:14.976932Z"
    }
   },
   "cell_type": "code",
   "source": [
    "# Reference policy (e.g., before update)\n",
    "ref_policy = np.array([0.6, 0.3, 0.1])  # π_old\n",
    "\n",
    "# New Policy A: Similar to reference\n",
    "policy_a = np.array([0.55, 0.35, 0.10])  # small shift\n",
    "\n",
    "# New Policy B: Significantly different\n",
    "policy_b = np.array([0.2, 0.4, 0.4])     # large shift"
   ],
   "id": "4b7c2d1ef0b48b01",
   "outputs": [],
   "execution_count": 2
  },
  {
   "metadata": {
    "ExecuteTime": {
     "end_time": "2025-07-20T09:43:15.005079Z",
     "start_time": "2025-07-20T09:43:14.997106Z"
    }
   },
   "cell_type": "code",
   "source": [
    "kl_a = kl_divergence(ref_policy, policy_a)\n",
    "kl_b = kl_divergence(ref_policy, policy_b)\n",
    "\n",
    "print(f\"KL(ref || policy_a) = {kl_a:.4f} nats\")\n",
    "print(f\"KL(ref || policy_b) = {kl_b:.4f} nats\")"
   ],
   "id": "2458bd3b8c7ed3c4",
   "outputs": [
    {
     "name": "stdout",
     "output_type": "stream",
     "text": [
      "KL(ref || policy_a) = 0.0060 nats\n",
      "KL(ref || policy_b) = 0.4342 nats\n"
     ]
    }
   ],
   "execution_count": 3
  },
  {
   "metadata": {
    "ExecuteTime": {
     "end_time": "2025-07-20T09:43:16.316922Z",
     "start_time": "2025-07-20T09:43:15.964943Z"
    }
   },
   "cell_type": "code",
   "source": [
    "labels = ['Action 1', 'Action 2', 'Action 3']\n",
    "x = np.arange(len(labels))\n",
    "width = 0.25\n",
    "\n",
    "plt.bar(x - width, ref_policy, width, label='Reference')\n",
    "plt.bar(x, policy_a, width, label='Policy A (similar)')\n",
    "plt.bar(x + width, policy_b, width, label='Policy B (different)')\n",
    "\n",
    "plt.ylabel('Action Probabilities')\n",
    "plt.title('Comparison of Stochastic Policies')\n",
    "plt.xticks(x, labels)\n",
    "plt.ylim(0, 1)\n",
    "plt.legend()\n",
    "plt.grid(True, axis='y', linestyle='--', alpha=0.7)\n",
    "plt.show()"
   ],
   "id": "10da0d9e38304071",
   "outputs": [
    {
     "data": {
      "text/plain": [
       "<Figure size 640x480 with 1 Axes>"
      ],
      "image/png": "[encoded data removed]"
     },
     "metadata": {},
     "output_type": "display_data"
    }
   ],
   "execution_count": 4
  },
  {
   "metadata": {},
   "cell_type": "markdown",
   "source": "# Lecture: PPO from stable_baselines",
   "id": "2b416e8e125ab19d"
  },
  {
   "metadata": {},
   "cell_type": "markdown",
   "source": "Run the following cell only if you are working with google colab to install the `stable_baselines3` package. If you are working locally just ignore this cell if you have already installed it manually or with the `requirements.txt`!",
   "id": "28c67ac536b8cae2"
  },
  {
   "metadata": {},
   "cell_type": "code",
   "outputs": [],
   "execution_count": null,
   "source": "!pip install stable-baselines3==2.6.0",
   "id": "379a90611e7cef0b"
  },
  {
   "metadata": {},
   "cell_type": "markdown",
   "source": [
    "### Excercise:\n",
    "Below is the code for applying the stable_baselines3 implementation of PPO on the Cart-Pole environment that we have already solved with REINFORCE in the last lecture.\n",
    "\n",
    "#### Task 1:\n",
    "Running the training will output frequently some information about the training process. Look at the values and figure out what the output is about. In particular, find out what\n",
    "\n",
    "- approx_kl\n",
    "- clip_fraction\n",
    "- clip_range\n",
    "- entropy_loss\n",
    "- explained_variance\n",
    "- learning_rate\n",
    "- loss\n",
    "\n",
    "means."
   ],
   "id": "896aab7eeb50f38e"
  },
  {
   "cell_type": "code",
   "id": "initial_id",
   "metadata": {
    "collapsed": true
   },
   "source": [
    "import gymnasium as gym\n",
    "from stable_baselines3 import PPO\n",
    "from stable_baselines3.common.evaluation import evaluate_policy\n",
    "\n",
    "# Create the environment\n",
    "env = gym.make(\"CartPole-v1\")\n",
    "\n",
    "# Create a PPO agent with an Mlp Policy\n",
    "model = PPO(\"MlpPolicy\", env, verbose=1)\n",
    "\n",
    "# Train the model\n",
    "model.learn(total_timesteps=100_000)\n",
    "\n",
    "# Evaluate the model\n",
    "mean_reward, std_reward = evaluate_policy(model, env, n_eval_episodes=10)\n",
    "print(f\"Mean Reward: {mean_reward:.2f} ± {std_reward:.2f}\")\n",
    "\n",
    "# save model\n",
    "model.save(\"ppo_cartpole\")"
   ],
   "outputs": [],
   "execution_count": null
  },
  {
   "metadata": {},
   "cell_type": "markdown",
   "source": [
    "#### Task 2:\n",
    "\n",
    "Test you algorithm with an episode of Cart-Pole."
   ],
   "id": "679fede63c7c1536"
  },
  {
   "metadata": {},
   "cell_type": "markdown",
   "source": "#### Note: Run this code if you use your local Python setup:",
   "id": "f0b2331c5fd165fe"
  },
  {
   "metadata": {
    "ExecuteTime": {
     "end_time": "2025-07-20T10:16:21.565433Z",
     "start_time": "2025-07-20T10:15:07.506908Z"
    }
   },
   "cell_type": "code",
   "source": [
    "import gymnasium as gym\n",
    "from stable_baselines3 import PPO\n",
    "\n",
    "env = gym.make(\"CartPole-v1\", render_mode=\"human\")\n",
    "\n",
    "# Optional: Modell laden und erneut ausführen\n",
    "model = PPO.load(\"ppo_cartpole\")\n",
    "\n",
    "# Beispiel für eine Episode anzeigen\n",
    "obs, _ = env.reset()\n",
    "done = False\n",
    "while not done:\n",
    "    action, _ = model.predict(obs)\n",
    "    obs, reward, terminated, truncated, _ = env.step(action)\n",
    "    done = terminated or truncated\n",
    "    env.render()\n",
    "\n",
    "env.close()"
   ],
   "id": "99b08dd20e671b40",
   "outputs": [
    {
     "name": "stdout",
     "output_type": "stream",
     "text": [
      "WARNING:tensorflow:From C:\\GitHub\\RL\\.venv\\Lib\\site-packages\\keras\\src\\losses.py:2976: The name tf.losses.sparse_softmax_cross_entropy is deprecated. Please use tf.compat.v1.losses.sparse_softmax_cross_entropy instead.\n",
      "\n"
     ]
    }
   ],
   "execution_count": 7
  },
  {
   "metadata": {},
   "cell_type": "markdown",
   "source": "#### Note: Run this code if you use colab:",
   "id": "62314ef6efdbab85"
  },
  {
   "metadata": {},
   "cell_type": "code",
   "outputs": [],
   "execution_count": null,
   "source": [
    "import gymnasium as gym\n",
    "from stable_baselines3 import PPO\n",
    "\n",
    "from IPython.display import HTML\n",
    "from base64 import b64encode\n",
    "\n",
    "import imageio\n",
    "\n",
    "# instantiation of the environment\n",
    "env = gym.make(\"CartPole-v1\", render_mode=\"rgb_array\")\n",
    "\n",
    "# resetting the environment for first start\n",
    "obs, _ = env.reset()\n",
    "\n",
    "# initialize a list of frames for video creation\n",
    "frames = []\n",
    "\n",
    "done = False\n",
    "while not done:\n",
    "    # capture the frame and append it to frames list\n",
    "    frame = env.render()\n",
    "    frames.append(frame)\n",
    "\n",
    "    action, _ = model.predict(obs)\n",
    "    # do one step in the environment\n",
    "    obs, reward, terminated, truncated, info = env.step(action)\n",
    "\n",
    "    # flag whether the episode is finished\n",
    "    done = terminated or truncated\n",
    "\n",
    "    # final rendering for last image of episode\n",
    "    if done:\n",
    "      frame = env.render()\n",
    "      frames.append(frame)\n",
    "\n",
    "env.close()\n",
    "\n",
    "# save video as\n",
    "video_path = \"./CartPole_vid_own_policy.mp4\"\n",
    "imageio.mimsave(video_path, frames, fps=5)"
   ],
   "id": "90a8256ee700067c"
  },
  {
   "metadata": {},
   "cell_type": "code",
   "outputs": [],
   "execution_count": null,
   "source": [
    "# this is for displaying the video after saving\n",
    "mp4 = open(video_path, 'rb').read()\n",
    "data_url = \"data:video/mp4;base64,\" + b64encode(mp4).decode()\n",
    "\n",
    "HTML(f\"\"\"\n",
    "<video width=400 controls>\n",
    "    <source src=\"{data_url}\" type=\"video/mp4\">\n",
    "</video>\n",
    "\"\"\")"
   ],
   "id": "1813b97537947fae"
  }
 ],
 "metadata": {
  "kernelspec": {
   "display_name": "Python 3",
   "language": "python",
   "name": "python3"
  },
  "language_info": {
   "codemirror_mode": {
    "name": "ipython",
    "version": 2
   },
   "file_extension": ".py",
   "mimetype": "text/x-python",
   "name": "python",
   "nbconvert_exporter": "python",
   "pygments_lexer": "ipython2",
   "version": "2.7.6"
  }
 },
 "nbformat": 4,
 "nbformat_minor": 5
}
